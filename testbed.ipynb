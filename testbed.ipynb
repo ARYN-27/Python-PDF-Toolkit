{
 "cells": [
  {
   "cell_type": "markdown",
   "metadata": {},
   "source": [
    "Python Hello World"
   ]
  },
  {
   "cell_type": "code",
   "execution_count": 2,
   "metadata": {},
   "outputs": [
    {
     "name": "stdout",
     "output_type": "stream",
     "text": [
      "Hello World\n"
     ]
    }
   ],
   "source": [
    "print(\"Hello World\")"
   ]
  },
  {
   "cell_type": "markdown",
   "metadata": {},
   "source": [
    "Import Test \n",
    "-PyPDF3\n",
    "-img2pdf \n",
    "-docx2pdf"
   ]
  },
  {
   "cell_type": "code",
   "execution_count": 4,
   "metadata": {},
   "outputs": [],
   "source": [
    "import PyPDF3\n",
    "import img2pdf\n",
    "import docx2pdf"
   ]
  },
  {
   "cell_type": "markdown",
   "metadata": {},
   "source": [
    "Test - img2pdf "
   ]
  },
  {
   "cell_type": "code",
   "execution_count": 5,
   "metadata": {},
   "outputs": [
    {
     "name": "stdout",
     "output_type": "stream",
     "text": [
      "please input file or dir\n"
     ]
    }
   ],
   "source": [
    "import sys\n",
    "import img2pdf\n",
    "import os\n",
    "\n",
    "filepath = sys.argv[1]\n",
    "if os.path.isdir(filepath):\n",
    "    with open(\"output.pdf\", \"wb\") as f:\n",
    "        imgs = []\n",
    "        for fname in os.listdir(filepath):\n",
    "            if not fname.endswith(\".jpg\"):\n",
    "                continue\n",
    "            path = os.path.join(filepath, fname)\n",
    "            if os.path.isdir(path):\n",
    "                continue\n",
    "            imgs.append(path)\n",
    "        f.write(img2pdf.convert(imgs))\n",
    "elif os.path.isfile(filepath):\n",
    "    if filepath.endswith(\".jpg\"):\n",
    "        with open(\"output.pdf\", \"wb\") as f:\n",
    "            f.write(img2pdf.convert(filepath))\n",
    "else:\n",
    "    print(\"please input file or dir\")"
   ]
  },
  {
   "cell_type": "markdown",
   "metadata": {},
   "source": [
    "Test - MergePDF"
   ]
  },
  {
   "cell_type": "code",
   "execution_count": 7,
   "metadata": {},
   "outputs": [
    {
     "ename": "FileNotFoundError",
     "evalue": "[Errno 2] No such file or directory: 'samplePdf1.pdf'",
     "output_type": "error",
     "traceback": [
      "\u001b[0;31m---------------------------------------------------------------------------\u001b[0m",
      "\u001b[0;31mFileNotFoundError\u001b[0m                         Traceback (most recent call last)",
      "\u001b[0;32m/tmp/ipykernel_1137/2110442781.py\u001b[0m in \u001b[0;36m<module>\u001b[0;34m\u001b[0m\n\u001b[1;32m     23\u001b[0m \u001b[0;34m\u001b[0m\u001b[0m\n\u001b[1;32m     24\u001b[0m \u001b[0;32mif\u001b[0m \u001b[0m__name__\u001b[0m \u001b[0;34m==\u001b[0m \u001b[0;34m\"__main__\"\u001b[0m\u001b[0;34m:\u001b[0m\u001b[0;34m\u001b[0m\u001b[0;34m\u001b[0m\u001b[0m\n\u001b[0;32m---> 25\u001b[0;31m     \u001b[0mby_appending\u001b[0m\u001b[0;34m(\u001b[0m\u001b[0;34m)\u001b[0m\u001b[0;34m\u001b[0m\u001b[0;34m\u001b[0m\u001b[0m\n\u001b[0m\u001b[1;32m     26\u001b[0m     \u001b[0mby_inserting\u001b[0m\u001b[0;34m(\u001b[0m\u001b[0;34m)\u001b[0m\u001b[0;34m\u001b[0m\u001b[0;34m\u001b[0m\u001b[0m\n",
      "\u001b[0;32m/tmp/ipykernel_1137/2110442781.py\u001b[0m in \u001b[0;36mby_appending\u001b[0;34m()\u001b[0m\n\u001b[1;32m      6\u001b[0m     \u001b[0mmerger\u001b[0m \u001b[0;34m=\u001b[0m \u001b[0mPdfFileMerger\u001b[0m\u001b[0;34m(\u001b[0m\u001b[0;34m)\u001b[0m\u001b[0;34m\u001b[0m\u001b[0;34m\u001b[0m\u001b[0m\n\u001b[1;32m      7\u001b[0m     \u001b[0;31m# Either provide file stream\u001b[0m\u001b[0;34m\u001b[0m\u001b[0;34m\u001b[0m\u001b[0m\n\u001b[0;32m----> 8\u001b[0;31m     \u001b[0mf1\u001b[0m \u001b[0;34m=\u001b[0m \u001b[0mopen\u001b[0m\u001b[0;34m(\u001b[0m\u001b[0;34m\"samplePdf1.pdf\"\u001b[0m\u001b[0;34m,\u001b[0m \u001b[0;34m\"rb\"\u001b[0m\u001b[0;34m)\u001b[0m\u001b[0;34m\u001b[0m\u001b[0;34m\u001b[0m\u001b[0m\n\u001b[0m\u001b[1;32m      9\u001b[0m     \u001b[0mmerger\u001b[0m\u001b[0;34m.\u001b[0m\u001b[0mappend\u001b[0m\u001b[0;34m(\u001b[0m\u001b[0mf1\u001b[0m\u001b[0;34m)\u001b[0m\u001b[0;34m\u001b[0m\u001b[0;34m\u001b[0m\u001b[0m\n\u001b[1;32m     10\u001b[0m     \u001b[0;31m# Or direct file path\u001b[0m\u001b[0;34m\u001b[0m\u001b[0;34m\u001b[0m\u001b[0m\n",
      "\u001b[0;31mFileNotFoundError\u001b[0m: [Errno 2] No such file or directory: 'samplePdf1.pdf'"
     ]
    }
   ],
   "source": [
    "from PyPDF3 import PdfFileMerger\n",
    "\n",
    "\n",
    "# By appending in the end\n",
    "def by_appending():\n",
    "    merger = PdfFileMerger()\n",
    "    # Either provide file stream\n",
    "    f1 = open(\"samplePdf1.pdf\", \"rb\")\n",
    "    merger.append(f1)\n",
    "    # Or direct file path\n",
    "    merger.append(\"samplePdf2.pdf\")\n",
    "\n",
    "    merger.write(\"mergedPdf.pdf\")\n",
    "\n",
    "\n",
    "# By inserting at after an specified page no.\n",
    "def by_inserting():\n",
    "    merger = PdfFileMerger()\n",
    "    merger.append(\"samplePdf1.pdf\")\n",
    "    merger.merge(0, \"samplePdf2.pdf\")\n",
    "    merger.write(\"mergedPdf1.pdf\")\n",
    "\n",
    "\n",
    "if __name__ == \"__main__\":\n",
    "    by_appending()\n",
    "    by_inserting()"
   ]
  },
  {
   "cell_type": "code",
   "execution_count": null,
   "metadata": {},
   "outputs": [],
   "source": [
    "Test - Docx to PDF "
   ]
  },
  {
   "cell_type": "code",
   "execution_count": 8,
   "metadata": {},
   "outputs": [
    {
     "ename": "TclError",
     "evalue": "no display name and no $DISPLAY environment variable",
     "output_type": "error",
     "traceback": [
      "\u001b[0;31m---------------------------------------------------------------------------\u001b[0m",
      "\u001b[0;31mTclError\u001b[0m                                  Traceback (most recent call last)",
      "\u001b[0;32m/tmp/ipykernel_1137/1952273339.py\u001b[0m in \u001b[0;36m<module>\u001b[0;34m\u001b[0m\n\u001b[1;32m     62\u001b[0m \u001b[0;34m\u001b[0m\u001b[0m\n\u001b[1;32m     63\u001b[0m \u001b[0;32mif\u001b[0m \u001b[0m__name__\u001b[0m \u001b[0;34m==\u001b[0m \u001b[0;34m'__main__'\u001b[0m\u001b[0;34m:\u001b[0m\u001b[0;34m\u001b[0m\u001b[0;34m\u001b[0m\u001b[0m\n\u001b[0;32m---> 64\u001b[0;31m     \u001b[0mroot\u001b[0m \u001b[0;34m=\u001b[0m\u001b[0mRoot\u001b[0m\u001b[0;34m(\u001b[0m\u001b[0;34m)\u001b[0m\u001b[0;34m\u001b[0m\u001b[0;34m\u001b[0m\u001b[0m\n\u001b[0m\u001b[1;32m     65\u001b[0m     \u001b[0mroot\u001b[0m\u001b[0;34m.\u001b[0m\u001b[0mmainloop\u001b[0m\u001b[0;34m(\u001b[0m\u001b[0;34m)\u001b[0m\u001b[0;34m\u001b[0m\u001b[0;34m\u001b[0m\u001b[0m\n",
      "\u001b[0;32m/tmp/ipykernel_1137/1952273339.py\u001b[0m in \u001b[0;36m__init__\u001b[0;34m(self)\u001b[0m\n\u001b[1;32m     10\u001b[0m \u001b[0;32mclass\u001b[0m \u001b[0mRoot\u001b[0m\u001b[0;34m(\u001b[0m\u001b[0mTk\u001b[0m\u001b[0;34m)\u001b[0m\u001b[0;34m:\u001b[0m\u001b[0;34m\u001b[0m\u001b[0;34m\u001b[0m\u001b[0m\n\u001b[1;32m     11\u001b[0m     \u001b[0;32mdef\u001b[0m \u001b[0m__init__\u001b[0m\u001b[0;34m(\u001b[0m\u001b[0mself\u001b[0m\u001b[0;34m)\u001b[0m\u001b[0;34m:\u001b[0m\u001b[0;34m\u001b[0m\u001b[0;34m\u001b[0m\u001b[0m\n\u001b[0;32m---> 12\u001b[0;31m         \u001b[0msuper\u001b[0m\u001b[0;34m(\u001b[0m\u001b[0mRoot\u001b[0m\u001b[0;34m,\u001b[0m\u001b[0mself\u001b[0m\u001b[0;34m)\u001b[0m\u001b[0;34m.\u001b[0m\u001b[0m__init__\u001b[0m\u001b[0;34m(\u001b[0m\u001b[0;34m)\u001b[0m\u001b[0;34m\u001b[0m\u001b[0;34m\u001b[0m\u001b[0m\n\u001b[0m\u001b[1;32m     13\u001b[0m         \u001b[0mself\u001b[0m\u001b[0;34m.\u001b[0m\u001b[0mtitle\u001b[0m\u001b[0;34m(\u001b[0m\u001b[0;34m\"Word_to_PDF Converter.\"\u001b[0m\u001b[0;34m)\u001b[0m\u001b[0;34m\u001b[0m\u001b[0;34m\u001b[0m\u001b[0m\n\u001b[1;32m     14\u001b[0m         \u001b[0mself\u001b[0m\u001b[0;34m.\u001b[0m\u001b[0mminsize\u001b[0m\u001b[0;34m(\u001b[0m\u001b[0;36m300\u001b[0m\u001b[0;34m,\u001b[0m\u001b[0;36m300\u001b[0m\u001b[0;34m)\u001b[0m\u001b[0;34m\u001b[0m\u001b[0;34m\u001b[0m\u001b[0m\n",
      "\u001b[0;32m/usr/local/lib/python3.10/tkinter/__init__.py\u001b[0m in \u001b[0;36m__init__\u001b[0;34m(self, screenName, baseName, className, useTk, sync, use)\u001b[0m\n\u001b[1;32m   2297\u001b[0m                 \u001b[0mbaseName\u001b[0m \u001b[0;34m=\u001b[0m \u001b[0mbaseName\u001b[0m \u001b[0;34m+\u001b[0m \u001b[0mext\u001b[0m\u001b[0;34m\u001b[0m\u001b[0;34m\u001b[0m\u001b[0m\n\u001b[1;32m   2298\u001b[0m         \u001b[0minteractive\u001b[0m \u001b[0;34m=\u001b[0m \u001b[0;32mFalse\u001b[0m\u001b[0;34m\u001b[0m\u001b[0;34m\u001b[0m\u001b[0m\n\u001b[0;32m-> 2299\u001b[0;31m         \u001b[0mself\u001b[0m\u001b[0;34m.\u001b[0m\u001b[0mtk\u001b[0m \u001b[0;34m=\u001b[0m \u001b[0m_tkinter\u001b[0m\u001b[0;34m.\u001b[0m\u001b[0mcreate\u001b[0m\u001b[0;34m(\u001b[0m\u001b[0mscreenName\u001b[0m\u001b[0;34m,\u001b[0m \u001b[0mbaseName\u001b[0m\u001b[0;34m,\u001b[0m \u001b[0mclassName\u001b[0m\u001b[0;34m,\u001b[0m \u001b[0minteractive\u001b[0m\u001b[0;34m,\u001b[0m \u001b[0mwantobjects\u001b[0m\u001b[0;34m,\u001b[0m \u001b[0museTk\u001b[0m\u001b[0;34m,\u001b[0m \u001b[0msync\u001b[0m\u001b[0;34m,\u001b[0m \u001b[0muse\u001b[0m\u001b[0;34m)\u001b[0m\u001b[0;34m\u001b[0m\u001b[0;34m\u001b[0m\u001b[0m\n\u001b[0m\u001b[1;32m   2300\u001b[0m         \u001b[0;32mif\u001b[0m \u001b[0museTk\u001b[0m\u001b[0;34m:\u001b[0m\u001b[0;34m\u001b[0m\u001b[0;34m\u001b[0m\u001b[0m\n\u001b[1;32m   2301\u001b[0m             \u001b[0mself\u001b[0m\u001b[0;34m.\u001b[0m\u001b[0m_loadtk\u001b[0m\u001b[0;34m(\u001b[0m\u001b[0;34m)\u001b[0m\u001b[0;34m\u001b[0m\u001b[0;34m\u001b[0m\u001b[0m\n",
      "\u001b[0;31mTclError\u001b[0m: no display name and no $DISPLAY environment variable"
     ]
    }
   ],
   "source": [
    "#import Library in module\n",
    "from docx2pdf import convert\n",
    "from tkinter import *\n",
    "from tkinter import ttk\n",
    "from tkinter import filedialog\n",
    "import os\n",
    "from random import randint\n",
    "\n",
    "#Define class for creating os_window.\n",
    "class Root(Tk):\n",
    "    def __init__(self):\n",
    "        super(Root,self).__init__()\n",
    "        self.title(\"Word_to_PDF Converter.\")\n",
    "        self.minsize(300,300)\n",
    "\n",
    "        self.wm_iconbitmap('icon.ico')\n",
    "        self.config(bg= '#0059b3')\n",
    "        self.resizable(width=False, height=False)\n",
    "\n",
    "\n",
    "        self.lableFrame = ttk.LabelFrame(self, text = \"                           Open your Word File\",relief= \"groove\")\n",
    "        self.lableFrame.grid(column = 1, row = 1, padx =20,pady = 20,sticky=N + S + E + W)\n",
    "        self.lable = ttk.Label(self, text=\"Develop by Addy\",relief= \"groove\")\n",
    "        self.lable.place(x=100, y=306)\n",
    "        self.button()\n",
    "        self.make_dir()\n",
    "        self.button1()\n",
    "\n",
    "    #define Function for Button1.\n",
    "    def button(self):\n",
    "        self.button = ttk.Button(self.lableFrame, text = \"Browse a File\", command = self.fileDialog)\n",
    "        self.img = PhotoImage(file=\"btn1.jpg\")  # make sure to add \"/\" not \"\\\"\n",
    "        self.button.config(image=self.img)\n",
    "        self.button.grid(column =1, row = 1)\n",
    "\n",
    "    # define Function for Button2.\n",
    "    def button1(self):\n",
    "        self.button1 = ttk.Button(self.lableFrame, text = \"Convert File\", command = self.convert)\n",
    "        self.img1 = PhotoImage(file=\"btn2.jpg\")  # make sure to add \"/\" not \"\\\"\n",
    "        self.button1.config(image=self.img1)\n",
    "        self.button1.grid(column =1, row = 2, padx= 20, pady= 50)\n",
    "\n",
    "    # define Function for Dialog box for file.\n",
    "    def fileDialog(self):\n",
    "        self.filename = filedialog.askopenfilename(initialdir = \"/\", title = \"Select a File\", filetype = ((\"docx\", \"*.docx\"),(\"All Files\", \"*.*\")))\n",
    "        self.lable = ttk.Label(self.lableFrame, text = \"\")\n",
    "        print(self.filename)\n",
    "    #define function to create a new folder for output of the file.\n",
    "    def make_dir(self):\n",
    "        path = 'D:/Doc_2_PDF (Output)'\n",
    "        try:\n",
    "            os.mkdir(path)\n",
    "        except OSError as error:\n",
    "            print()\n",
    "    #define function to convert the docx file into pdf.\n",
    "    def convert(self):\n",
    "        i = str(randint(1,1000))\n",
    "        self.input_file = self.filename\n",
    "        self.output_file = ('D:/Doc_2_PDF (Output)/output' + i + '.pdf')\n",
    "        convert(self.input_file,self.output_file)\n",
    "\n",
    "\n",
    "if __name__ == '__main__':\n",
    "    root =Root()\n",
    "    root.mainloop()"
   ]
  }
 ],
 "metadata": {
  "interpreter": {
   "hash": "949777d72b0d2535278d3dc13498b2535136f6dfe0678499012e853ee9abcab1"
  },
  "kernelspec": {
   "display_name": "Python 3.10.0 64-bit",
   "name": "python3"
  },
  "language_info": {
   "codemirror_mode": {
    "name": "ipython",
    "version": 3
   },
   "file_extension": ".py",
   "mimetype": "text/x-python",
   "name": "python",
   "nbconvert_exporter": "python",
   "pygments_lexer": "ipython3",
   "version": "3.10.0"
  },
  "orig_nbformat": 4
 },
 "nbformat": 4,
 "nbformat_minor": 2
}
